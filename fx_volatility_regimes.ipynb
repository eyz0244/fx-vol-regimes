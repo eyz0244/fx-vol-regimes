{
 "cells": [
  {
   "cell_type": "code",
   "execution_count": null,
   "id": "b6396384-6ad2-495e-b11a-cfcab99df9fa",
   "metadata": {},
   "outputs": [],
   "source": [
    "import pandas as pd\n",
    "import numpy as np\n",
    "import matplotlib.pyplot as plt\n",
    "from pathlib import Path"
   ]
  },
  {
   "cell_type": "markdown",
   "id": "c9b640be-30af-4060-acc2-7b1fe1482de2",
   "metadata": {},
   "source": [
    "## CHANGE IF EXPORT NEEDED:"
   ]
  },
  {
   "cell_type": "code",
   "execution_count": null,
   "id": "979037a0-db29-48d0-a73a-a934c8a91097",
   "metadata": {},
   "outputs": [],
   "source": [
    "EXPORT = False # whether to export data and images"
   ]
  },
  {
   "cell_type": "markdown",
   "id": "92f67bf3-edf1-4c40-8a85-2473636518e3",
   "metadata": {},
   "source": [
    "### 0. Define Plot Function"
   ]
  },
  {
   "cell_type": "code",
   "execution_count": null,
   "id": "6603c7ba-171e-45cf-9878-3c5a69c2e5e5",
   "metadata": {},
   "outputs": [],
   "source": [
    "def plot_fx(df, variable, label, ymax = None, EXPORT = False):\n",
    "    plt.figure(figsize=(12, 4)) # create figure\n",
    "    \n",
    "    plt.plot(df.index, df[variable], label=label) # plot mean volatility\n",
    "    \n",
    "    plt.fill_between(df.index, 0, df[variable],\n",
    "                     where=df[\"Regime\"] == \"High\", color=\"red\", alpha=0.2, label=\"High Regime\") # fill area under high regime with red\n",
    "    plt.fill_between(df.index, 0, df[variable],\n",
    "                     where=df[\"Regime\"] == \"Low\", color=\"green\", alpha=0.2, label=\"Low Regime\") # fill area under low regime with green\n",
    "\n",
    "    if ymax: # limit outlier spikes for visibility\n",
    "        plt.ylim(0, 0.015)\n",
    "    \n",
    "    plt.legend() # set legend\n",
    "    plt.title(f\"Cross-sectional {variable} Regimes\") # set title\n",
    "    plt.tight_layout() # ensure everything fits\n",
    "\n",
    "    if EXPORT:\n",
    "        plt.savefig(f\"fx_{label}_regimes_chart.png\") # save chart\n",
    "    plt.show() # show plot"
   ]
  },
  {
   "cell_type": "markdown",
   "id": "ba91b8a4-4e73-4ec1-92f3-0c8a7b02014b",
   "metadata": {},
   "source": [
    "### 1. Define path, pairs, rolling window, and regime percentiles"
   ]
  },
  {
   "cell_type": "code",
   "execution_count": null,
   "id": "d7cc1b2b-56a6-4e0d-9eea-4469062578e4",
   "metadata": {},
   "outputs": [],
   "source": [
    "data_dir = Path(\"data/\")\n",
    "pairs = ['EURUSD', 'USDJPY', 'GBPUSD', 'USDCHF', 'AUDUSD', 'USDCAD', 'NZDUSD']\n",
    "\n",
    "# volatility presets\n",
    "vol_window = 21 # 21-day window, roughly 1 month of trading days\n",
    "vol_lower_percentile = 0.3 # 30th percentile\n",
    "vol_upper_percentile = 0.7 # 70th percentile\n",
    "\n",
    "# dispersion presets\n",
    "disp_window = 21 # 21-day window, roughly 1 month of trading days\n",
    "disp_lower_percentile = 0.3 # 30th percentile\n",
    "disp_upper_percentile = 0.7 # 70th percentile"
   ]
  },
  {
   "cell_type": "markdown",
   "id": "5dc19e98-418c-4842-9ee0-139ea7c79fc0",
   "metadata": {},
   "source": [
    "### 2. Load Data"
   ]
  },
  {
   "cell_type": "code",
   "execution_count": null,
   "id": "0a3e165c-53fc-4a8a-9b9f-e84fba4236e3",
   "metadata": {},
   "outputs": [],
   "source": [
    "dfs = {}\n",
    "\n",
    "for pair in pairs:\n",
    "    df = pd.read_csv(data_dir / f\"{pair}.csv\")\n",
    "    df[\"Date\"] = pd.to_datetime(df[\"Date\"]) # ensure date format\n",
    "    df.set_index(\"Date\", inplace=True) # set date as index\n",
    "    df = df[[\"Price\"]].rename(columns={\"Price\": pair}) # rename price to pair\n",
    "    df = df.drop_duplicates() # drop duplicates\n",
    "    dfs[pair] = df # assign to dict\n",
    "\n",
    "df_all = pd.concat(dfs.values(), axis=1).ffill() # concat and fill forward for misaligned days"
   ]
  },
  {
   "cell_type": "markdown",
   "id": "656d94a5-08e3-462c-89b2-5c890c105841",
   "metadata": {},
   "source": [
    "### 3. Compute Volility + Regime"
   ]
  },
  {
   "cell_type": "code",
   "execution_count": null,
   "id": "921d330e-44d8-4b99-af98-807b7b57729c",
   "metadata": {},
   "outputs": [],
   "source": [
    "# log returns, needed for both volatility and dispersion\n",
    "rets = np.log(df_all / df_all.shift(1)).dropna() # log returns"
   ]
  },
  {
   "cell_type": "code",
   "execution_count": null,
   "id": "ef54bc59-753f-46c3-b2aa-d923d09624f8",
   "metadata": {},
   "outputs": [],
   "source": [
    "# volatility and mean across currency pairs\n",
    "vol = rets.rolling(vol_window).std().dropna() # rolling standard deviation\n",
    "vol_mean = vol.mean(axis=1) # mean across currency pairs\n",
    "\n",
    "# expanding percentiles (causal)\n",
    "vol_low = vol_mean.expanding().quantile(vol_lower_percentile)\n",
    "vol_high = vol_mean.expanding().quantile(vol_upper_percentile)\n",
    "\n",
    "# define regimes\n",
    "vol_regime = pd.Series(\"Mid\", index = vol_mean.index)\n",
    "vol_regime[vol_mean < vol_low] = \"Low\"\n",
    "vol_regime[vol_mean > vol_high] = \"High\"\n",
    "\n",
    "# output dataframe\n",
    "vol_df = pd.DataFrame({\n",
    "    \"Volatility\": vol_mean,\n",
    "    \"Regime\": vol_regime\n",
    "})\n",
    "\n",
    "vol_df = vol_df.iloc[vol_window:] # exclude initial lookback period "
   ]
  },
  {
   "cell_type": "markdown",
   "id": "376cbb55-3b0e-4cd7-bcca-81d957271fe9",
   "metadata": {},
   "source": [
    "### 4. Compute Dispersion + Regime"
   ]
  },
  {
   "cell_type": "code",
   "execution_count": null,
   "id": "4349d87f-9a6f-425f-a861-95117b28d63d",
   "metadata": {},
   "outputs": [],
   "source": [
    "# dispersion across currency pairs\n",
    "disp = rets.std(axis=1)\n",
    "\n",
    "# expanding percentiles (causal)\n",
    "disp_low = disp.expanding().quantile(disp_lower_percentile)\n",
    "disp_high = disp.expanding().quantile(disp_upper_percentile)\n",
    "\n",
    "# define regimes\n",
    "disp_regime = pd.Series(\"Mid\", index = disp.index)\n",
    "disp_regime[disp < disp_low] = \"Low\"\n",
    "disp_regime[disp > disp_high] = \"High\"\n",
    "\n",
    "# output dataframe\n",
    "disp_df = pd.DataFrame({\n",
    "    \"Dispersion\": disp,\n",
    "    \"Regime\": disp_regime\n",
    "})\n",
    "\n",
    "disp_df = disp_df.iloc[disp_window:] # exclude initial lookback period"
   ]
  },
  {
   "cell_type": "markdown",
   "id": "250de1dc-4606-48ea-945e-16f42ee8e82c",
   "metadata": {},
   "source": [
    "### 4. Output Table + CSV"
   ]
  },
  {
   "cell_type": "code",
   "execution_count": null,
   "id": "331336f9-b45f-4690-9461-61e278846e72",
   "metadata": {},
   "outputs": [],
   "source": [
    "if EXPORT:\n",
    "    vol_df.to_csv(\"fx_volatility_regimes_output.csv\")\n",
    "    disp_df.to_csv(\"fx_dispersion_regimes_output.csv\")"
   ]
  },
  {
   "cell_type": "markdown",
   "id": "69040413-9561-4507-a323-a53e6f97528d",
   "metadata": {},
   "source": [
    "### 5. Plot Volatility"
   ]
  },
  {
   "cell_type": "code",
   "execution_count": null,
   "id": "226625f9-297c-4753-ade2-7368cb193904",
   "metadata": {},
   "outputs": [],
   "source": [
    "plot_fx(vol_df, 'Volatility', 'Vol')"
   ]
  },
  {
   "cell_type": "markdown",
   "id": "b5476beb-5532-4a5b-ad05-72eaa3470193",
   "metadata": {},
   "source": [
    "### 6. Plot Dispersion"
   ]
  },
  {
   "cell_type": "code",
   "execution_count": null,
   "id": "73873bd5-c088-4c56-b4c8-ab833dbddf83",
   "metadata": {},
   "outputs": [],
   "source": [
    "regime_counts = (\n",
    "    disp_df.groupby(disp_df.index.to_period(\"Y\"))[\"Regime\"]\n",
    "    .value_counts()\n",
    "    .unstack()\n",
    "    .fillna(0)\n",
    "    .astype(int)\n",
    ")\n",
    "\n",
    "regime_counts.index = regime_counts.index.astype(str)  # ensure x-axis is label-friendly\n",
    "\n",
    "regime_counts.plot(kind=\"bar\", stacked=True, figsize=(12, 4))\n",
    "plt.title(\"Dispersion Regime Counts by Year\")\n",
    "plt.xlabel(\"Year\")\n",
    "plt.ylabel(\"Day Count\")\n",
    "plt.tight_layout()\n",
    "if EXPORT:\n",
    "    plt.savefig(\"dispersion_regime_barplot.png\")\n",
    "plt.show()"
   ]
  },
  {
   "cell_type": "code",
   "execution_count": null,
   "id": "c1e2f8ab-97f1-40bd-815b-750df2562ebb",
   "metadata": {},
   "outputs": [],
   "source": []
  },
  {
   "cell_type": "code",
   "execution_count": null,
   "id": "d1846695-6b48-47e7-996d-8fa845ae0d44",
   "metadata": {},
   "outputs": [],
   "source": []
  }
 ],
 "metadata": {
  "kernelspec": {
   "display_name": "Python 3 (ipykernel)",
   "language": "python",
   "name": "python3"
  },
  "language_info": {
   "codemirror_mode": {
    "name": "ipython",
    "version": 3
   },
   "file_extension": ".py",
   "mimetype": "text/x-python",
   "name": "python",
   "nbconvert_exporter": "python",
   "pygments_lexer": "ipython3",
   "version": "3.12.11"
  }
 },
 "nbformat": 4,
 "nbformat_minor": 5
}
